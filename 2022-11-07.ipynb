{
 "cells": [
  {
   "cell_type": "markdown",
   "id": "128dffa7",
   "metadata": {},
   "source": [
    "## 라이브러리 확인\n",
    "- 버전 확인해보기"
   ]
  },
  {
   "cell_type": "code",
   "execution_count": 51,
   "id": "1be817b2",
   "metadata": {},
   "outputs": [
    {
     "name": "stdout",
     "output_type": "stream",
     "text": [
      "3.2.0\n",
      "1.23.4\n",
      "1.5.1\n",
      "0.12.1\n",
      "3.6.2\n"
     ]
    }
   ],
   "source": [
    "import pyspark\n",
    "import numpy as np\n",
    "import pandas as pd\n",
    "import matplotlib as mpl\n",
    "import seaborn as sns\n",
    "print(pyspark.__version__)\n",
    "print(np.__version__)\n",
    "print(pd.__version__)\n",
    "print(sns.__version__)\n",
    "print(mpl.__version__)"
   ]
  },
  {
   "cell_type": "markdown",
   "id": "9dc0e1b4",
   "metadata": {},
   "source": [
    "##  환경설정 필요\n",
    "- 참조 :  https://spark.apache.org/docs/latest/configuration.html"
   ]
  },
  {
   "cell_type": "code",
   "execution_count": 5,
   "id": "353b1f2b",
   "metadata": {},
   "outputs": [
    {
     "data": {
      "text/html": [
       "\n",
       "        <div>\n",
       "            <p><b>SparkContext</b></p>\n",
       "\n",
       "            <p><a href=\"http://172.28.246.117:4040\">Spark UI</a></p>\n",
       "\n",
       "            <dl>\n",
       "              <dt>Version</dt>\n",
       "                <dd><code>v3.2.0</code></dd>\n",
       "              <dt>Master</dt>\n",
       "                <dd><code>local[*]</code></dd>\n",
       "              <dt>AppName</dt>\n",
       "                <dd><code>PySparkShell</code></dd>\n",
       "            </dl>\n",
       "        </div>\n",
       "        "
      ],
      "text/plain": [
       "<SparkContext master=local[*] appName=PySparkShell>"
      ]
     },
     "execution_count": 5,
     "metadata": {},
     "output_type": "execute_result"
    }
   ],
   "source": [
    "sc"
   ]
  },
  {
   "cell_type": "markdown",
   "id": "941011cf",
   "metadata": {},
   "source": [
    " 현재 Spark 사용자 이름 확인"
   ]
  },
  {
   "cell_type": "code",
   "execution_count": 8,
   "id": "f2a79d79",
   "metadata": {},
   "outputs": [
    {
     "data": {
      "text/plain": [
       "'human'"
      ]
     },
     "execution_count": 8,
     "metadata": {},
     "output_type": "execute_result"
    }
   ],
   "source": [
    "import getpass\n",
    "username = getpass.getuser()\n",
    "username"
   ]
  },
  {
   "cell_type": "markdown",
   "id": "265ee6b7",
   "metadata": {},
   "source": [
    "## SparkSession\n",
    "- Spark 생태계에 진입하기 위한 일종의 시작점\n",
    "- Spark 클러스터 연결지점\n",
    "- PySpark는Default로 SparkContext를 sc로 호출한다."
   ]
  },
  {
   "cell_type": "code",
   "execution_count": 10,
   "id": "cd3b7406",
   "metadata": {},
   "outputs": [
    {
     "name": "stdout",
     "output_type": "stream",
     "text": [
      "spark version: 3.2.0\n"
     ]
    }
   ],
   "source": [
    "print(\"spark version:\" ,sc.version)"
   ]
  },
  {
   "cell_type": "code",
   "execution_count": 13,
   "id": "882ddc15",
   "metadata": {},
   "outputs": [
    {
     "name": "stdout",
     "output_type": "stream",
     "text": [
      "python version: 3.8\n"
     ]
    }
   ],
   "source": [
    "print(\"python version:\", sc.pythonVer)"
   ]
  },
  {
   "cell_type": "code",
   "execution_count": 15,
   "id": "f85fb97d",
   "metadata": {},
   "outputs": [
    {
     "name": "stdout",
     "output_type": "stream",
     "text": [
      "Spark Master Name: local[*]\n"
     ]
    }
   ],
   "source": [
    "print(\"Spark Master Name:\", sc.master)"
   ]
  },
  {
   "cell_type": "markdown",
   "id": "af3dcf12",
   "metadata": {},
   "source": [
    "## lambda 함수\n",
    "- 사용자 정의 함수를 1회성으로 쓴다.\n"
   ]
  },
  {
   "cell_type": "code",
   "execution_count": 17,
   "id": "9aef19ea",
   "metadata": {},
   "outputs": [
    {
     "data": {
      "text/plain": [
       "15"
      ]
     },
     "execution_count": 17,
     "metadata": {},
     "output_type": "execute_result"
    }
   ],
   "source": [
    "(lambda x: x+5)(10)"
   ]
  },
  {
   "cell_type": "code",
   "execution_count": 24,
   "id": "611ccd94",
   "metadata": {},
   "outputs": [
    {
     "data": {
      "text/plain": [
       "[105, 106, 107, 108, 109]"
      ]
     },
     "execution_count": 24,
     "metadata": {},
     "output_type": "execute_result"
    }
   ],
   "source": [
    "list(map(lambda x: x+105, range(5)))"
   ]
  },
  {
   "cell_type": "code",
   "execution_count": 25,
   "id": "e6aeb451",
   "metadata": {},
   "outputs": [],
   "source": [
    "sc.stop()"
   ]
  },
  {
   "cell_type": "markdown",
   "id": "827ad525",
   "metadata": {},
   "source": [
    "## RDD\n",
    "- RDD를 배우자\n",
    "- 새로운 Spark 세션을 만들자"
   ]
  },
  {
   "cell_type": "code",
   "execution_count": 29,
   "id": "48ed015a",
   "metadata": {},
   "outputs": [
    {
     "data": {
      "text/html": [
       "\n",
       "            <div>\n",
       "                <p><b>SparkSession - hive</b></p>\n",
       "                \n",
       "        <div>\n",
       "            <p><b>SparkContext</b></p>\n",
       "\n",
       "            <p><a href=\"http://172.28.246.117:4040\">Spark UI</a></p>\n",
       "\n",
       "            <dl>\n",
       "              <dt>Version</dt>\n",
       "                <dd><code>v3.2.0</code></dd>\n",
       "              <dt>Master</dt>\n",
       "                <dd><code>local[1]</code></dd>\n",
       "              <dt>AppName</dt>\n",
       "                <dd><code>my1stSpark</code></dd>\n",
       "            </dl>\n",
       "        </div>\n",
       "        \n",
       "            </div>\n",
       "        "
      ],
      "text/plain": [
       "<pyspark.sql.session.SparkSession at 0x7f29200fc940>"
      ]
     },
     "execution_count": 29,
     "metadata": {},
     "output_type": "execute_result"
    }
   ],
   "source": [
    "from pyspark.sql import SparkSession\n",
    "spark = SparkSession.builder.master(\"local[1]\").appName(\"my1stSpark\").getOrCreate()\n",
    "spark"
   ]
  },
  {
   "cell_type": "markdown",
   "id": "5453bdd2",
   "metadata": {},
   "source": [
    "- RDD 객체를 생성하자.\n",
    "- 도움말 참조 : https://spark.apache.org/docs/latest/configuration.html\n"
   ]
  },
  {
   "cell_type": "code",
   "execution_count": 31,
   "id": "42befa43",
   "metadata": {},
   "outputs": [
    {
     "name": "stdout",
     "output_type": "stream",
     "text": [
      "<class 'pyspark.rdd.RDD'>\n"
     ]
    }
   ],
   "source": [
    "data = [1,2,3,4,5]\n",
    "rdd = spark.sparkContext.parallelize(data)\n",
    "print(type(rdd))"
   ]
  },
  {
   "cell_type": "code",
   "execution_count": 33,
   "id": "d6a0204a",
   "metadata": {},
   "outputs": [
    {
     "name": "stdout",
     "output_type": "stream",
     "text": [
      "<class 'pyspark.rdd.PipelinedRDD'>\n"
     ]
    }
   ],
   "source": [
    "num_values = range(1, 101)\n",
    "rdd = spark.sparkContext.parallelize(num_values)\n",
    "print(type(rdd))"
   ]
  },
  {
   "cell_type": "code",
   "execution_count": 35,
   "id": "69213619",
   "metadata": {},
   "outputs": [
    {
     "name": "stdout",
     "output_type": "stream",
     "text": [
      "<class 'pyspark.rdd.RDD'>\n"
     ]
    }
   ],
   "source": [
    "np_num_values = np.array([1,2,3])\n",
    "rdd = spark.sparkContext.parallelize(np_num_values)\n",
    "print(type(rdd))"
   ]
  },
  {
   "cell_type": "code",
   "execution_count": 36,
   "id": "633292dd",
   "metadata": {},
   "outputs": [
    {
     "name": "stdout",
     "output_type": "stream",
     "text": [
      "<class 'pyspark.rdd.RDD'>\n"
     ]
    }
   ],
   "source": [
    "str_values = [\"A\",\"B\",\"C\"]\n",
    "rdd = spark.sparkContext.parallelize(str_values)\n",
    "print(type(rdd))"
   ]
  },
  {
   "cell_type": "markdown",
   "id": "09d6d582",
   "metadata": {},
   "source": [
    "## 데이터 가져오기\n",
    "- README.md 파일을 가져오기"
   ]
  },
  {
   "cell_type": "code",
   "execution_count": 46,
   "id": "d2f603e1",
   "metadata": {},
   "outputs": [
    {
     "name": "stdout",
     "output_type": "stream",
     "text": [
      "The File Type is <class 'pyspark.rdd.RDD'>\n",
      "The File Type is <class 'pyspark.rdd.PipelinedRDD'>\n",
      "PythonRDD[35] at RDD at PythonRDD.scala:53\n"
     ]
    },
    {
     "name": "stderr",
     "output_type": "stream",
     "text": [
      "\r",
      "[Stage 0:>                                                          (0 + 1) / 1]\r"
     ]
    },
    {
     "name": "stdout",
     "output_type": "stream",
     "text": [
      "19\n",
      "# Apache Spark\n",
      "Spark is a unified analytics engine for large-scale data processing. It provides\n",
      "rich set of higher-level tools including Spark SQL for SQL and DataFrames,\n",
      "[![PySpark Coverage](https://codecov.io/gh/apache/spark/branch/master/graph/badge.svg)](https://codecov.io/gh/apache/spark)\n"
     ]
    },
    {
     "name": "stderr",
     "output_type": "stream",
     "text": [
      "\r",
      "                                                                                \r"
     ]
    }
   ],
   "source": [
    "filt_path = 'data/README.md'\n",
    "fileRDD = spark.sparkContext.textFile(filt_path)\n",
    "print(\"The File Type is\", type(fileRDD))\n",
    "\n",
    "# Spark Transformation\n",
    "# filter Spark 글자만 출력한다\n",
    "fileRDD_filter = fileRDD.filter(lambda line : 'Spark'in line)\n",
    "print(\"The File Type is\", type(fileRDD_filter))\n",
    "print(fileRDD_filter)\n",
    "\n",
    "# Spark Action\n",
    "print(fileRDD_filter.count())\n",
    "for line in fileRDD_filter.take(4):\n",
    "    print(line)"
   ]
  },
  {
   "cell_type": "code",
   "execution_count": 49,
   "id": "cdb2e0e2",
   "metadata": {},
   "outputs": [
    {
     "name": "stdout",
     "output_type": "stream",
     "text": [
      "[0, 1, 8, 27, 64, 125, 216, 343, 512, 729]\n"
     ]
    }
   ],
   "source": [
    "num_values = range(10)\n",
    "num_values = spark.sparkContext.parallelize(num_values)\n",
    "cubic_values = list(map(lambda x : x**3, range(10)))\n",
    "print(cubic_values)"
   ]
  },
  {
   "cell_type": "code",
   "execution_count": 50,
   "id": "a4425758",
   "metadata": {},
   "outputs": [
    {
     "name": "stdout",
     "output_type": "stream",
     "text": [
      "0\n",
      "1\n",
      "8\n",
      "27\n",
      "64\n",
      "125\n",
      "216\n",
      "343\n",
      "512\n",
      "729\n"
     ]
    }
   ],
   "source": [
    "num_values = range(10)\n",
    "# RDD 생성\n",
    "num_values = spark.sparkContext.parallelize(num_values)\n",
    "\n",
    "# RDD 트랜스포메이션 생성\n",
    "cubic_values = num_values.map(lambda x : x **3)\n",
    "\n",
    "# RDD 액션\n",
    "for num in cubic_values.collect():\n",
    "    print(num)"
   ]
  }
 ],
 "metadata": {
  "kernelspec": {
   "display_name": "Python 3 (ipykernel)",
   "language": "python",
   "name": "python3"
  },
  "language_info": {
   "codemirror_mode": {
    "name": "ipython",
    "version": 3
   },
   "file_extension": ".py",
   "mimetype": "text/x-python",
   "name": "python",
   "nbconvert_exporter": "python",
   "pygments_lexer": "ipython3",
   "version": "3.8.0"
  }
 },
 "nbformat": 4,
 "nbformat_minor": 5
}
