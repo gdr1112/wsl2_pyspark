{
 "cells": [
  {
   "cell_type": "code",
   "execution_count": 1,
   "id": "8768ae90",
   "metadata": {},
   "outputs": [
    {
     "data": {
      "text/html": [
       "\n",
       "        <div>\n",
       "            <p><b>SparkContext</b></p>\n",
       "\n",
       "            <p><a href=\"http://172.28.240.101:4040\">Spark UI</a></p>\n",
       "\n",
       "            <dl>\n",
       "              <dt>Version</dt>\n",
       "                <dd><code>v3.2.0</code></dd>\n",
       "              <dt>Master</dt>\n",
       "                <dd><code>local[*]</code></dd>\n",
       "              <dt>AppName</dt>\n",
       "                <dd><code>PySparkShell</code></dd>\n",
       "            </dl>\n",
       "        </div>\n",
       "        "
      ],
      "text/plain": [
       "<SparkContext master=local[*] appName=PySparkShell>"
      ]
     },
     "execution_count": 1,
     "metadata": {},
     "output_type": "execute_result"
    }
   ],
   "source": [
    "sc"
   ]
  },
  {
   "cell_type": "code",
   "execution_count": 2,
   "id": "31a84e53",
   "metadata": {},
   "outputs": [],
   "source": [
    "sc.stop()"
   ]
  },
  {
   "cell_type": "markdown",
   "id": "612d93ec",
   "metadata": {},
   "source": [
    "## 라이브러리\n",
    "- 주요 라이브러리"
   ]
  },
  {
   "cell_type": "code",
   "execution_count": 7,
   "id": "3a8135d2",
   "metadata": {},
   "outputs": [
    {
     "name": "stdout",
     "output_type": "stream",
     "text": [
      "1.23.4\n",
      "1.5.1\n",
      "3.6.2\n",
      "0.12.1\n",
      "1.1.3\n",
      "3.2.0\n"
     ]
    }
   ],
   "source": [
    "import numpy as np\n",
    "import pandas as pd\n",
    "import matplotlib\n",
    "import matplotlib.pyplot as plt\n",
    "import seaborn as sns\n",
    "import sklearn\n",
    "import pyspark\n",
    "\n",
    "print(np.__version__)\n",
    "print(pd.__version__)\n",
    "print(matplotlib.__version__)\n",
    "print(sns.__version__)\n",
    "print(sklearn.__version__)\n",
    "print(pyspark.__version__)\n",
    "\n"
   ]
  },
  {
   "cell_type": "markdown",
   "id": "8a9aea45",
   "metadata": {},
   "source": [
    "## Spark 세션 만들기\n",
    "- master : \"local[1]\"\n",
    "- appName : my1stSpark"
   ]
  },
  {
   "cell_type": "code",
   "execution_count": 28,
   "id": "8d93bd6f",
   "metadata": {},
   "outputs": [
    {
     "data": {
      "text/html": [
       "\n",
       "            <div>\n",
       "                <p><b>SparkSession - hive</b></p>\n",
       "                \n",
       "        <div>\n",
       "            <p><b>SparkContext</b></p>\n",
       "\n",
       "            <p><a href=\"http://172.28.240.101:4041\">Spark UI</a></p>\n",
       "\n",
       "            <dl>\n",
       "              <dt>Version</dt>\n",
       "                <dd><code>v3.2.0</code></dd>\n",
       "              <dt>Master</dt>\n",
       "                <dd><code>local[1]</code></dd>\n",
       "              <dt>AppName</dt>\n",
       "                <dd><code>my1stSpark</code></dd>\n",
       "            </dl>\n",
       "        </div>\n",
       "        \n",
       "            </div>\n",
       "        "
      ],
      "text/plain": [
       "<pyspark.sql.session.SparkSession at 0x7f4de3f09af0>"
      ]
     },
     "execution_count": 28,
     "metadata": {},
     "output_type": "execute_result"
    }
   ],
   "source": [
    "from pyspark.sql import SparkSession\n",
    "spark = SparkSession.builder.master(\"local[1]\").appName(\"my1stSpark\").getOrCreate()\n",
    "spark"
   ]
  },
  {
   "cell_type": "markdown",
   "id": "c4e58d0b",
   "metadata": {},
   "source": [
    "## RDD 의 작동원리\n",
    "- 데이터 --> Transformation 메서드 활용 (lambda 함수 활용) --> Action 메소드 활용\n",
    "- PairRDD : 값이 Dictionary + 튜플처럼 저장됨"
   ]
  },
  {
   "cell_type": "code",
   "execution_count": 9,
   "id": "142fdc13",
   "metadata": {},
   "outputs": [
    {
     "data": {
      "text/plain": [
       "['A', 'B', 'C']"
      ]
     },
     "execution_count": 9,
     "metadata": {},
     "output_type": "execute_result"
    }
   ],
   "source": [
    "temp_dict={\n",
    "    \"name\" : [\"A\",\"B\",\"C\"]\n",
    "}\n",
    "temp_dict[\"name\"]"
   ]
  },
  {
   "cell_type": "code",
   "execution_count": 10,
   "id": "bcad3a8c",
   "metadata": {},
   "outputs": [
    {
     "data": {
      "text/plain": [
       "(1, 2, 3, 4)"
      ]
     },
     "execution_count": 10,
     "metadata": {},
     "output_type": "execute_result"
    }
   ],
   "source": [
    "temp_tuple = (1,2,3,4)\n",
    "temp_tuple"
   ]
  },
  {
   "cell_type": "code",
   "execution_count": 12,
   "id": "747425f8",
   "metadata": {},
   "outputs": [
    {
     "data": {
      "text/plain": [
       "[('python', 10),\n",
       " ('Java Script', 5),\n",
       " ('Java', 20),\n",
       " ('python', 5),\n",
       " ('R', 5),\n",
       " ('Java', 10)]"
      ]
     },
     "execution_count": 12,
     "metadata": {},
     "output_type": "execute_result"
    }
   ],
   "source": [
    "# 프로그래밍 수강생 조사\n",
    "data = [('python', 10),('Java Script', 5), ('Java', 20), ('python',5),('R', 5), ('Java', 10)]\n",
    "data"
   ]
  },
  {
   "cell_type": "markdown",
   "id": "ec32d1ef",
   "metadata": {},
   "source": [
    "## PairRDD 생성\n"
   ]
  },
  {
   "cell_type": "code",
   "execution_count": 15,
   "id": "8fe43ebf",
   "metadata": {},
   "outputs": [
    {
     "name": "stdout",
     "output_type": "stream",
     "text": [
      "ParallelCollectionRDD[2] at readRDDFromFile at PythonRDD.scala:274\n",
      "<class 'pyspark.rdd.RDD'>\n",
      "[('python', 10), ('Java Script', 5), ('Java', 20), ('python', 5), ('R', 5), ('Java', 10)]\n"
     ]
    }
   ],
   "source": [
    "regi_lan  = spark.sparkContext.parallelize(data)\n",
    "print(regi_lan)\n",
    "print(type(regi_lan))\n",
    "\n",
    "# Action Method 사용\n",
    "print(regi_lan.collect()) "
   ]
  },
  {
   "cell_type": "markdown",
   "id": "96ab0e9a",
   "metadata": {},
   "source": [
    "## PairRDD 메서드 종류\n",
    "- 참조 : https://spark.apache.org/docs/latest/rdd-programming-guide.html#rdd-operations"
   ]
  },
  {
   "cell_type": "markdown",
   "id": "04dea88d",
   "metadata": {},
   "source": [
    "## groupbyKey()\n",
    "- 참조 : https://spark.apache.org/docs/latest/api/python/reference/api/pyspark.RDD.groupByKey.html#pyspark.RDD.groupByKey\n"
   ]
  },
  {
   "cell_type": "code",
   "execution_count": 16,
   "id": "091e18e5",
   "metadata": {},
   "outputs": [
    {
     "name": "stdout",
     "output_type": "stream",
     "text": [
      "python --> [10, 5]\n",
      "Java Script --> [5]\n",
      "Java --> [20, 10]\n",
      "R --> [5]\n"
     ]
    }
   ],
   "source": [
    "group_rdd = regi_lan.groupByKey().collect()\n",
    "for keys, values in group_rdd:\n",
    "    print(keys, \"-->\", list(values))"
   ]
  },
  {
   "cell_type": "code",
   "execution_count": 17,
   "id": "5ded66a2",
   "metadata": {},
   "outputs": [
    {
     "data": {
      "text/plain": [
       "[('Java', 2), ('Java Script', 1), ('R', 1), ('python', 2)]"
      ]
     },
     "execution_count": 17,
     "metadata": {},
     "output_type": "execute_result"
    }
   ],
   "source": [
    "sorted(regi_lan.groupByKey().mapValues(len).collect())"
   ]
  },
  {
   "cell_type": "code",
   "execution_count": 18,
   "id": "41d76b94",
   "metadata": {},
   "outputs": [
    {
     "data": {
      "text/plain": [
       "[('Java', [20, 10]), ('Java Script', [5]), ('R', [5]), ('python', [10, 5])]"
      ]
     },
     "execution_count": 18,
     "metadata": {},
     "output_type": "execute_result"
    }
   ],
   "source": [
    "sorted(regi_lan.groupByKey().mapValues(list).collect())"
   ]
  },
  {
   "cell_type": "markdown",
   "id": "08951fd2",
   "metadata": {},
   "source": [
    "## sortByKey()\n",
    "- 참조 : https://spark.apache.org/docs/latest/api/python/reference/api/pyspark.RDD.sortByKey.html?highlight=sortbykey\n"
   ]
  },
  {
   "cell_type": "code",
   "execution_count": 19,
   "id": "179a9f49",
   "metadata": {},
   "outputs": [
    {
     "name": "stdout",
     "output_type": "stream",
     "text": [
      "[('Java', 20), ('Java', 10), ('Java Script', 5), ('R', 5), ('python', 10), ('python', 5)]\n"
     ]
    }
   ],
   "source": [
    "print(regi_lan.sortByKey().collect())"
   ]
  },
  {
   "cell_type": "code",
   "execution_count": 20,
   "id": "55f77261",
   "metadata": {},
   "outputs": [
    {
     "name": "stdout",
     "output_type": "stream",
     "text": [
      "[('python', 10), ('python', 5), ('R', 5), ('Java Script', 5), ('Java', 20), ('Java', 10)]\n"
     ]
    }
   ],
   "source": [
    "print(regi_lan.sortByKey(ascending=False).collect())"
   ]
  },
  {
   "cell_type": "markdown",
   "id": "478da03a",
   "metadata": {},
   "source": [
    "### reduceByKey9()\n",
    "- 사칙연산\n",
    "- lambda 함수 사용 필요\n",
    "- 참조 : https://spark.apache.org/docs/latest/api/python/reference/api/pyspark.RDD.reduceByKey.html?highlight=reducebykey"
   ]
  },
  {
   "cell_type": "code",
   "execution_count": 22,
   "id": "2c0e8f08",
   "metadata": {},
   "outputs": [
    {
     "data": {
      "text/plain": [
       "[('python', 15), ('Java Script', 5), ('Java', 30), ('R', 5)]"
      ]
     },
     "execution_count": 22,
     "metadata": {},
     "output_type": "execute_result"
    }
   ],
   "source": [
    "regi_lan.reduceByKey(lambda x1, x2 : x1 + x2).collect()"
   ]
  },
  {
   "cell_type": "code",
   "execution_count": 24,
   "id": "d2b82eb2",
   "metadata": {},
   "outputs": [
    {
     "data": {
      "text/plain": [
       "[('python', 5), ('Java Script', 5), ('Java', 10), ('R', 5)]"
      ]
     },
     "execution_count": 24,
     "metadata": {},
     "output_type": "execute_result"
    }
   ],
   "source": [
    "regi_lan.reduceByKey(lambda x1, x2 : x1 - x2).collect()"
   ]
  },
  {
   "cell_type": "code",
   "execution_count": 26,
   "id": "887b9071",
   "metadata": {},
   "outputs": [
    {
     "data": {
      "text/plain": [
       "[('python', 50), ('Java Script', 5), ('Java', 200), ('R', 5)]"
      ]
     },
     "execution_count": 26,
     "metadata": {},
     "output_type": "execute_result"
    }
   ],
   "source": [
    "regi_lan.reduceByKey(lambda x1, x2 : x1 * x2).collect()"
   ]
  },
  {
   "cell_type": "code",
   "execution_count": 27,
   "id": "ce6daa95",
   "metadata": {},
   "outputs": [
    {
     "data": {
      "text/plain": [
       "[('python', 2.0), ('Java Script', 5), ('Java', 2.0), ('R', 5)]"
      ]
     },
     "execution_count": 27,
     "metadata": {},
     "output_type": "execute_result"
    }
   ],
   "source": [
    "regi_lan.reduceByKey(lambda x1, x2 : x1 / x2).collect()"
   ]
  },
  {
   "cell_type": "code",
   "execution_count": null,
   "id": "dca1c091",
   "metadata": {},
   "outputs": [],
   "source": []
  }
 ],
 "metadata": {
  "kernelspec": {
   "display_name": "Python 3 (ipykernel)",
   "language": "python",
   "name": "python3"
  },
  "language_info": {
   "codemirror_mode": {
    "name": "ipython",
    "version": 3
   },
   "file_extension": ".py",
   "mimetype": "text/x-python",
   "name": "python",
   "nbconvert_exporter": "python",
   "pygments_lexer": "ipython3",
   "version": "3.8.0"
  }
 },
 "nbformat": 4,
 "nbformat_minor": 5
}
